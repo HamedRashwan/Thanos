{
 "cells": [
  {
   "cell_type": "code",
   "execution_count": 5,
   "metadata": {},
   "outputs": [],
   "source": [
    "import random\n",
    "import os"
   ]
  },
  {
   "cell_type": "code",
   "execution_count": 7,
   "metadata": {},
   "outputs": [
    {
     "name": "stdout",
     "output_type": "stream",
     "text": [
      "Deleted: D:\\COURSES\\AI\\Epsilon Ai\\Session 9\\Assignment\\Thanos project\\universe\\cover010.png\n",
      "Deleted: D:\\COURSES\\AI\\Epsilon Ai\\Session 9\\Assignment\\Thanos project\\universe\\cover002.png\n",
      "Deleted: D:\\COURSES\\AI\\Epsilon Ai\\Session 9\\Assignment\\Thanos project\\universe\\cover027.png\n",
      "Deleted: D:\\COURSES\\AI\\Epsilon Ai\\Session 9\\Assignment\\Thanos project\\universe\\cover021.png\n",
      "Deleted: D:\\COURSES\\AI\\Epsilon Ai\\Session 9\\Assignment\\Thanos project\\universe\\cover026.png\n",
      "Deleted: D:\\COURSES\\AI\\Epsilon Ai\\Session 9\\Assignment\\Thanos project\\universe\\cover017.png\n",
      "Deleted: D:\\COURSES\\AI\\Epsilon Ai\\Session 9\\Assignment\\Thanos project\\universe\\cover013.png\n",
      "Deleted: D:\\COURSES\\AI\\Epsilon Ai\\Session 9\\Assignment\\Thanos project\\universe\\cover015.png\n",
      "Deleted: D:\\COURSES\\AI\\Epsilon Ai\\Session 9\\Assignment\\Thanos project\\universe\\cover049.png\n",
      "Deleted: D:\\COURSES\\AI\\Epsilon Ai\\Session 9\\Assignment\\Thanos project\\universe\\cover043.png\n",
      "Deleted: D:\\COURSES\\AI\\Epsilon Ai\\Session 9\\Assignment\\Thanos project\\universe\\cover031.png\n",
      "Deleted: D:\\COURSES\\AI\\Epsilon Ai\\Session 9\\Assignment\\Thanos project\\universe\\cover030.png\n",
      "Deleted: D:\\COURSES\\AI\\Epsilon Ai\\Session 9\\Assignment\\Thanos project\\universe\\cover024.png\n",
      "Deleted: D:\\COURSES\\AI\\Epsilon Ai\\Session 9\\Assignment\\Thanos project\\universe\\cover040.png\n",
      "Deleted: D:\\COURSES\\AI\\Epsilon Ai\\Session 9\\Assignment\\Thanos project\\universe\\cover035.png\n",
      "Deleted: D:\\COURSES\\AI\\Epsilon Ai\\Session 9\\Assignment\\Thanos project\\universe\\cover034.png\n",
      "Deleted: D:\\COURSES\\AI\\Epsilon Ai\\Session 9\\Assignment\\Thanos project\\universe\\cover044.png\n",
      "Deleted: D:\\COURSES\\AI\\Epsilon Ai\\Session 9\\Assignment\\Thanos project\\universe\\cover041.png\n",
      "Deleted: D:\\COURSES\\AI\\Epsilon Ai\\Session 9\\Assignment\\Thanos project\\universe\\cover045.png\n",
      "Deleted: D:\\COURSES\\AI\\Epsilon Ai\\Session 9\\Assignment\\Thanos project\\universe\\cover028.png\n",
      "Deleted: D:\\COURSES\\AI\\Epsilon Ai\\Session 9\\Assignment\\Thanos project\\universe\\cover011.png\n",
      "Deleted: D:\\COURSES\\AI\\Epsilon Ai\\Session 9\\Assignment\\Thanos project\\universe\\cover020.png\n",
      "Deleted: D:\\COURSES\\AI\\Epsilon Ai\\Session 9\\Assignment\\Thanos project\\universe\\cover025.png\n",
      "Deleted: D:\\COURSES\\AI\\Epsilon Ai\\Session 9\\Assignment\\Thanos project\\universe\\cover019.png\n",
      "Deleted: D:\\COURSES\\AI\\Epsilon Ai\\Session 9\\Assignment\\Thanos project\\universe\\cover023.png\n",
      "Thanos snap completed. Deleted 25 out of 50 files.\n"
     ]
    }
   ],
   "source": [
    "def thanos_snap(directory_path):\n",
    "    try:\n",
    "        files = os.listdir(directory_path)\n",
    "\n",
    "        files_to_delete = len(files) // 2\n",
    "\n",
    "        files_to_delete_list = random.sample(files, files_to_delete)\n",
    "\n",
    "        for file_to_delete in files_to_delete_list:\n",
    "            file_path = os.path.join(directory_path, file_to_delete)\n",
    "            os.remove(file_path)\n",
    "            print(f\"Deleted: {file_path}\")\n",
    "\n",
    "        print(f\"Thanos snap completed. Deleted {files_to_delete} out of {len(files)} files.\")\n",
    "    except Exception as e:\n",
    "        print(f\"An error occurred: {e}\")\n",
    "\n",
    "\n",
    "directory_path = r'D:\\COURSES\\AI\\Epsilon Ai\\Session 9\\Assignment\\Thanos project\\universe'\n",
    "\n",
    "thanos_snap(directory_path)"
   ]
  },
  {
   "cell_type": "code",
   "execution_count": null,
   "metadata": {},
   "outputs": [],
   "source": []
  }
 ],
 "metadata": {
  "kernelspec": {
   "display_name": "base",
   "language": "python",
   "name": "python3"
  },
  "language_info": {
   "codemirror_mode": {
    "name": "ipython",
    "version": 3
   },
   "file_extension": ".py",
   "mimetype": "text/x-python",
   "name": "python",
   "nbconvert_exporter": "python",
   "pygments_lexer": "ipython3",
   "version": "3.7.6"
  }
 },
 "nbformat": 4,
 "nbformat_minor": 2
}
